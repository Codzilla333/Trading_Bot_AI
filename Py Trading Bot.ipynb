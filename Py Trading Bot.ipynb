{
 "cells": [
  {
   "cell_type": "code",
   "execution_count": 134,
   "id": "ab6fa21a",
   "metadata": {},
   "outputs": [],
   "source": [
    "import MetaTrader5 as mt\n",
    "import pandas as pd\n",
    "import plotly.express as px\n",
    "from datetime import datetime\n",
    "import time"
   ]
  },
  {
   "cell_type": "code",
   "execution_count": 2,
   "id": "a23bcbc6",
   "metadata": {},
   "outputs": [
    {
     "data": {
      "text/plain": [
       "True"
      ]
     },
     "execution_count": 2,
     "metadata": {},
     "output_type": "execute_result"
    }
   ],
   "source": [
    "mt.initialize()"
   ]
  },
  {
   "cell_type": "code",
   "execution_count": 6,
   "id": "b3543525",
   "metadata": {},
   "outputs": [
    {
     "data": {
      "text/plain": [
       "{'login': 122940720,\n",
       " 'trade_mode': 0,\n",
       " 'leverage': 2000,\n",
       " 'limit_orders': 1024,\n",
       " 'margin_so_mode': 0,\n",
       " 'trade_allowed': True,\n",
       " 'trade_expert': True,\n",
       " 'margin_mode': 2,\n",
       " 'currency_digits': 2,\n",
       " 'fifo_close': False,\n",
       " 'balance': 50.0,\n",
       " 'credit': 0.0,\n",
       " 'profit': 0.0,\n",
       " 'equity': 50.0,\n",
       " 'margin': 0.0,\n",
       " 'margin_free': 50.0,\n",
       " 'margin_level': 0.0,\n",
       " 'margin_so_call': 60.0,\n",
       " 'margin_so_so': 0.0,\n",
       " 'margin_initial': 0.0,\n",
       " 'margin_maintenance': 0.0,\n",
       " 'assets': 0.0,\n",
       " 'liabilities': 0.0,\n",
       " 'commission_blocked': 0.0,\n",
       " 'name': 'Demo-account',\n",
       " 'server': 'Exness-MT5Trial7',\n",
       " 'currency': 'USD',\n",
       " 'company': 'Exness Technologies Ltd'}"
      ]
     },
     "execution_count": 6,
     "metadata": {},
     "output_type": "execute_result"
    }
   ],
   "source": [
    "account_info = mt.account_info()._asdict()\n",
    "account_info"
   ]
  },
  {
   "cell_type": "code",
   "execution_count": 38,
   "id": "89d7d38b",
   "metadata": {},
   "outputs": [
    {
     "data": {
      "text/plain": [
       "0"
      ]
     },
     "execution_count": 38,
     "metadata": {},
     "output_type": "execute_result"
    }
   ],
   "source": [
    "num_orders = mt.orders_total()\n",
    "num_orders"
   ]
  },
  {
   "cell_type": "code",
   "execution_count": 34,
   "id": "18437f96",
   "metadata": {
    "collapsed": true
   },
   "outputs": [
    {
     "ename": "NameError",
     "evalue": "name 'result_' is not defined",
     "output_type": "error",
     "traceback": [
      "\u001b[1;31m---------------------------------------------------------------------------\u001b[0m",
      "\u001b[1;31mNameError\u001b[0m                                 Traceback (most recent call last)",
      "Cell \u001b[1;32mIn[34], line 21\u001b[0m\n\u001b[0;32m      5\u001b[0m request\u001b[38;5;241m=\u001b[39m{\n\u001b[0;32m      6\u001b[0m     \u001b[38;5;124m\"\u001b[39m\u001b[38;5;124maction\u001b[39m\u001b[38;5;124m\"\u001b[39m: mt\u001b[38;5;241m.\u001b[39mTRADE_ACTION_DEAL,\n\u001b[0;32m      7\u001b[0m     \u001b[38;5;124m\"\u001b[39m\u001b[38;5;124msymbol\u001b[39m\u001b[38;5;124m\"\u001b[39m: symbol,\n\u001b[1;32m   (...)\u001b[0m\n\u001b[0;32m     17\u001b[0m     \n\u001b[0;32m     18\u001b[0m }\n\u001b[0;32m     20\u001b[0m result \u001b[38;5;241m=\u001b[39m mt\u001b[38;5;241m.\u001b[39morder_send(request)\u001b[38;5;241m.\u001b[39m_asdict()\n\u001b[1;32m---> 21\u001b[0m \u001b[43mresult_\u001b[49m\n",
      "\u001b[1;31mNameError\u001b[0m: name 'result_' is not defined"
     ]
    }
   ],
   "source": [
    "symbol = \"XAUUSDm\"\n",
    "price = mt.symbol_info_tick(symbol).ask\n",
    "sl = price+20\n",
    "tp = price-30\n",
    "request={\n",
    "    \"action\": mt.TRADE_ACTION_DEAL,\n",
    "    \"symbol\": symbol,\n",
    "    \"volume\": 0.01,\n",
    "    \"type\": mt.ORDER_TYPE_SELL,\n",
    "    \"price\": price,\n",
    "    \"sl\": sl,\n",
    "    \"tp\": tp,\n",
    "    \"magic\": 234000,\n",
    "    \"comment\": \"python script SELL\",\n",
    "    \"type_time\": mt.ORDER_TIME_GTC,\n",
    "    \"type_filling\": mt.ORDER_FILLING_IOC,\n",
    "    \n",
    "}\n",
    "\n",
    "result = mt.order_send(request)._asdict()\n",
    "result"
   ]
  },
  {
   "cell_type": "code",
   "execution_count": 35,
   "id": "1fd10d64",
   "metadata": {},
   "outputs": [
    {
     "data": {
      "text/plain": [
       "{'retcode': 10009,\n",
       " 'deal': 211540474,\n",
       " 'order': 346832565,\n",
       " 'volume': 0.01,\n",
       " 'price': 2035.553,\n",
       " 'bid': 2035.553,\n",
       " 'ask': 2035.753,\n",
       " 'comment': 'python script SE',\n",
       " 'request_id': 732191675,\n",
       " 'retcode_external': 0,\n",
       " 'request': TradeRequest(action=1, magic=234000, order=0, symbol='XAUUSDm', volume=0.01, price=2035.801, stoplimit=0.0, sl=2055.801, tp=2005.801, deviation=0, type=1, type_filling=1, type_time=0, expiration=0, comment='python script SELL', position=0, position_by=0)}"
      ]
     },
     "execution_count": 35,
     "metadata": {},
     "output_type": "execute_result"
    }
   ],
   "source": [
    "result"
   ]
  },
  {
   "cell_type": "code",
   "execution_count": 36,
   "id": "f6c1b5ce",
   "metadata": {
    "scrolled": true
   },
   "outputs": [
    {
     "name": "stdout",
     "output_type": "stream",
     "text": [
      "OrderSendResult(retcode=10009, deal=211543837, order=346836224, volume=0.01, price=2036.057, bid=2035.857, ask=2036.057, comment='close position', request_id=732191676, retcode_external=0, request=TradeRequest(action=1, magic=0, order=0, symbol='XAUUSDm', volume=0.01, price=2035.862, stoplimit=0.0, sl=0.0, tp=0.0, deviation=0, type=0, type_filling=1, type_time=0, expiration=0, comment='close position', position=346832565, position_by=0))\n"
     ]
    }
   ],
   "source": [
    "request={\n",
    "    \"action\": mt.TRADE_ACTION_DEAL,\n",
    "    \"symbol\": symbol,\n",
    "    \"volume\": 0.01,\n",
    "    \"type\": mt.ORDER_TYPE_BUY,\n",
    "    \"position\": 346832565,\n",
    "    \"price\": mt.symbol_info_tick(\"XAUUSDm\").bid,\n",
    "    \"comment\": \"close position\",\n",
    "    \"type_time\": mt.ORDER_TIME_GTC,\n",
    "    \"type_filling\": mt.ORDER_FILLING_IOC,\n",
    "    \n",
    "}\n",
    "order = mt.order_send(request)\n",
    "print(order)\n"
   ]
  },
  {
   "cell_type": "code",
   "execution_count": 137,
   "id": "d405f44c",
   "metadata": {},
   "outputs": [],
   "source": [
    "# Trading BOT\n",
    "\n",
    "\n",
    "ticker = \"XAUUSDm\"\n",
    "qty = 0.01\n",
    "buy_order_type = mt.ORDER_TYPE_BUY\n",
    "sell_order_type = mt.ORDER_TYPE_SELL\n",
    "buy_price = mt.symbol_info_tick(\"XAUUSDm\").ask\n",
    "sell_price =  mt.symbol_info_tick(\"XAUUSDm\").bid\n",
    "sl_pct = 0.005\n",
    "tp_pct = 0.015\n",
    "buy_sl = buy_price* (1-sl_pct)\n",
    "buy_tp = buy_price* (1+tp_pct)\n",
    "sell_sl = sell_price * (1+sl_pct)\n",
    "sell_tp = sell_price * (1-tp_pct)\n",
    "\n",
    "position = mt.positions_get()[0]._asdict()[\"ticket\"]\n",
    "\n",
    "def create_order(ticker, qty, order_type, price, sl, tp):\n",
    "    request={\n",
    "    \"action\": mt.TRADE_ACTION_DEAL,\n",
    "    \"symbol\": ticker,\n",
    "    \"volume\": qty,\n",
    "    \"type\": order_type,\n",
    "    \"price\": price,\n",
    "    \"sl\": sl,\n",
    "    \"tp\": tp,\n",
    "    \"magic\": 234000,\n",
    "    \"comment\": \"python Open Position\",\n",
    "    \"type_time\": mt.ORDER_TIME_GTC,\n",
    "    \"type_filling\": mt.ORDER_FILLING_IOC,\n",
    "    \n",
    "    }\n",
    "    order = mt.order_send(request)._asdict()\n",
    "    \n",
    "    return order\n",
    "\n",
    "def close_order(ticker, qty, order_type,price):\n",
    "    request={\n",
    "    \"action\": mt.TRADE_ACTION_DEAL,\n",
    "    \"symbol\": ticker,\n",
    "    \"volume\": qty,\n",
    "    \"type\": order_type,\n",
    "    \"price\": price,\n",
    "    \"position\": mt.positions_get()[0]._asdict()[\"ticket\"],\n",
    "    \"comment\": \"Close Position\",\n",
    "    \"type_time\": mt.ORDER_TIME_GTC,\n",
    "    \"type_filling\": mt.ORDER_FILLING_IOC,\n",
    "    \n",
    "    }\n",
    "    order = mt.order_send(request)\n",
    "    \n",
    "    return order\n",
    "\n"
   ]
  },
  {
   "cell_type": "code",
   "execution_count": 73,
   "id": "f88aca33",
   "metadata": {},
   "outputs": [
    {
     "data": {
      "text/plain": [
       "{'retcode': 10009,\n",
       " 'deal': 211620118,\n",
       " 'order': 346921196,\n",
       " 'volume': 0.01,\n",
       " 'price': 2035.883,\n",
       " 'bid': 2035.683,\n",
       " 'ask': 2035.883,\n",
       " 'comment': 'python Open Posi',\n",
       " 'request_id': 732191684,\n",
       " 'retcode_external': 0,\n",
       " 'request': TradeRequest(action=1, magic=234000, order=0, symbol='XAUUSDm', volume=0.01, price=2035.752, stoplimit=0.0, sl=2025.57324, tp=2066.2882799999998, deviation=0, type=0, type_filling=1, type_time=0, expiration=0, comment='python Open Position', position=0, position_by=0)}"
      ]
     },
     "execution_count": 73,
     "metadata": {},
     "output_type": "execute_result"
    }
   ],
   "source": [
    "create_order(ticker,qty,buy_order_type,buy_price,buy_sl,buy_tp)"
   ]
  },
  {
   "cell_type": "code",
   "execution_count": 80,
   "id": "4f440054",
   "metadata": {},
   "outputs": [
    {
     "data": {
      "text/plain": [
       "5"
      ]
     },
     "execution_count": 80,
     "metadata": {},
     "output_type": "execute_result"
    }
   ],
   "source": [
    "len(mt.positions_get())"
   ]
  },
  {
   "cell_type": "code",
   "execution_count": 98,
   "id": "889a3174",
   "metadata": {},
   "outputs": [
    {
     "data": {
      "text/plain": [
       "OrderSendResult(retcode=10009, deal=211640868, order=346943723, volume=0.01, price=2035.586, bid=2035.586, ask=2035.786, comment='Close Position', request_id=732191685, retcode_external=0, request=TradeRequest(action=1, magic=0, order=0, symbol='XAUUSDm', volume=0.01, price=2035.804, stoplimit=0.0, sl=0.0, tp=0.0, deviation=0, type=1, type_filling=1, type_time=0, expiration=0, comment='Close Position', position=346911808, position_by=0))"
      ]
     },
     "execution_count": 98,
     "metadata": {},
     "output_type": "execute_result"
    }
   ],
   "source": [
    "close_order(ticker,qty,sell_order_type,sell_price)"
   ]
  },
  {
   "cell_type": "code",
   "execution_count": null,
   "id": "daadfeb6",
   "metadata": {},
   "outputs": [],
   "source": [
    "\n",
    "# Stratergy\n",
    "\n"
   ]
  },
  {
   "cell_type": "code",
   "execution_count": 100,
   "id": "58ba020c",
   "metadata": {},
   "outputs": [],
   "source": [
    "ohlc = pd.DataFrame(mt.copy_rates_range('XAUUSDm',mt.TIMEFRAME_M1,datetime(2023,12,15),\n",
    "                                       datetime.now()))"
   ]
  },
  {
   "cell_type": "code",
   "execution_count": 101,
   "id": "6781b492",
   "metadata": {},
   "outputs": [
    {
     "data": {
      "text/html": [
       "<div>\n",
       "<style scoped>\n",
       "    .dataframe tbody tr th:only-of-type {\n",
       "        vertical-align: middle;\n",
       "    }\n",
       "\n",
       "    .dataframe tbody tr th {\n",
       "        vertical-align: top;\n",
       "    }\n",
       "\n",
       "    .dataframe thead th {\n",
       "        text-align: right;\n",
       "    }\n",
       "</style>\n",
       "<table border=\"1\" class=\"dataframe\">\n",
       "  <thead>\n",
       "    <tr style=\"text-align: right;\">\n",
       "      <th></th>\n",
       "      <th>time</th>\n",
       "      <th>open</th>\n",
       "      <th>high</th>\n",
       "      <th>low</th>\n",
       "      <th>close</th>\n",
       "      <th>tick_volume</th>\n",
       "      <th>spread</th>\n",
       "      <th>real_volume</th>\n",
       "    </tr>\n",
       "  </thead>\n",
       "  <tbody>\n",
       "    <tr>\n",
       "      <th>0</th>\n",
       "      <td>1702558800</td>\n",
       "      <td>2038.815</td>\n",
       "      <td>2039.208</td>\n",
       "      <td>2037.962</td>\n",
       "      <td>2038.209</td>\n",
       "      <td>148</td>\n",
       "      <td>200</td>\n",
       "      <td>0</td>\n",
       "    </tr>\n",
       "    <tr>\n",
       "      <th>1</th>\n",
       "      <td>1702558860</td>\n",
       "      <td>2038.157</td>\n",
       "      <td>2038.253</td>\n",
       "      <td>2037.296</td>\n",
       "      <td>2037.558</td>\n",
       "      <td>99</td>\n",
       "      <td>200</td>\n",
       "      <td>0</td>\n",
       "    </tr>\n",
       "    <tr>\n",
       "      <th>2</th>\n",
       "      <td>1702558920</td>\n",
       "      <td>2037.500</td>\n",
       "      <td>2038.149</td>\n",
       "      <td>2037.031</td>\n",
       "      <td>2037.355</td>\n",
       "      <td>162</td>\n",
       "      <td>200</td>\n",
       "      <td>0</td>\n",
       "    </tr>\n",
       "    <tr>\n",
       "      <th>3</th>\n",
       "      <td>1702558980</td>\n",
       "      <td>2037.380</td>\n",
       "      <td>2037.410</td>\n",
       "      <td>2036.679</td>\n",
       "      <td>2036.706</td>\n",
       "      <td>106</td>\n",
       "      <td>200</td>\n",
       "      <td>0</td>\n",
       "    </tr>\n",
       "    <tr>\n",
       "      <th>4</th>\n",
       "      <td>1702559040</td>\n",
       "      <td>2036.756</td>\n",
       "      <td>2036.894</td>\n",
       "      <td>2035.576</td>\n",
       "      <td>2036.199</td>\n",
       "      <td>147</td>\n",
       "      <td>200</td>\n",
       "      <td>0</td>\n",
       "    </tr>\n",
       "    <tr>\n",
       "      <th>...</th>\n",
       "      <td>...</td>\n",
       "      <td>...</td>\n",
       "      <td>...</td>\n",
       "      <td>...</td>\n",
       "      <td>...</td>\n",
       "      <td>...</td>\n",
       "      <td>...</td>\n",
       "      <td>...</td>\n",
       "    </tr>\n",
       "    <tr>\n",
       "      <th>1027</th>\n",
       "      <td>1702624200</td>\n",
       "      <td>2036.311</td>\n",
       "      <td>2036.617</td>\n",
       "      <td>2036.152</td>\n",
       "      <td>2036.236</td>\n",
       "      <td>88</td>\n",
       "      <td>200</td>\n",
       "      <td>0</td>\n",
       "    </tr>\n",
       "    <tr>\n",
       "      <th>1028</th>\n",
       "      <td>1702624260</td>\n",
       "      <td>2036.252</td>\n",
       "      <td>2036.512</td>\n",
       "      <td>2036.148</td>\n",
       "      <td>2036.512</td>\n",
       "      <td>67</td>\n",
       "      <td>199</td>\n",
       "      <td>0</td>\n",
       "    </tr>\n",
       "    <tr>\n",
       "      <th>1029</th>\n",
       "      <td>1702624320</td>\n",
       "      <td>2036.539</td>\n",
       "      <td>2036.807</td>\n",
       "      <td>2036.414</td>\n",
       "      <td>2036.698</td>\n",
       "      <td>72</td>\n",
       "      <td>200</td>\n",
       "      <td>0</td>\n",
       "    </tr>\n",
       "    <tr>\n",
       "      <th>1030</th>\n",
       "      <td>1702624380</td>\n",
       "      <td>2036.652</td>\n",
       "      <td>2036.935</td>\n",
       "      <td>2036.462</td>\n",
       "      <td>2036.896</td>\n",
       "      <td>64</td>\n",
       "      <td>200</td>\n",
       "      <td>0</td>\n",
       "    </tr>\n",
       "    <tr>\n",
       "      <th>1031</th>\n",
       "      <td>1702624440</td>\n",
       "      <td>2036.908</td>\n",
       "      <td>2036.908</td>\n",
       "      <td>2036.748</td>\n",
       "      <td>2036.804</td>\n",
       "      <td>16</td>\n",
       "      <td>200</td>\n",
       "      <td>0</td>\n",
       "    </tr>\n",
       "  </tbody>\n",
       "</table>\n",
       "<p>1032 rows × 8 columns</p>\n",
       "</div>"
      ],
      "text/plain": [
       "            time      open      high       low     close  tick_volume  spread  \\\n",
       "0     1702558800  2038.815  2039.208  2037.962  2038.209          148     200   \n",
       "1     1702558860  2038.157  2038.253  2037.296  2037.558           99     200   \n",
       "2     1702558920  2037.500  2038.149  2037.031  2037.355          162     200   \n",
       "3     1702558980  2037.380  2037.410  2036.679  2036.706          106     200   \n",
       "4     1702559040  2036.756  2036.894  2035.576  2036.199          147     200   \n",
       "...          ...       ...       ...       ...       ...          ...     ...   \n",
       "1027  1702624200  2036.311  2036.617  2036.152  2036.236           88     200   \n",
       "1028  1702624260  2036.252  2036.512  2036.148  2036.512           67     199   \n",
       "1029  1702624320  2036.539  2036.807  2036.414  2036.698           72     200   \n",
       "1030  1702624380  2036.652  2036.935  2036.462  2036.896           64     200   \n",
       "1031  1702624440  2036.908  2036.908  2036.748  2036.804           16     200   \n",
       "\n",
       "      real_volume  \n",
       "0               0  \n",
       "1               0  \n",
       "2               0  \n",
       "3               0  \n",
       "4               0  \n",
       "...           ...  \n",
       "1027            0  \n",
       "1028            0  \n",
       "1029            0  \n",
       "1030            0  \n",
       "1031            0  \n",
       "\n",
       "[1032 rows x 8 columns]"
      ]
     },
     "execution_count": 101,
     "metadata": {},
     "output_type": "execute_result"
    }
   ],
   "source": [
    "ohlc"
   ]
  },
  {
   "cell_type": "code",
   "execution_count": 138,
   "id": "0607f02f",
   "metadata": {},
   "outputs": [
    {
     "name": "stdout",
     "output_type": "stream",
     "text": [
      "Only Buy Position Closed\n",
      "Sell Order Placed\n",
      "Sell Order Placed\n",
      "Sell Order Placed\n",
      "Sell Order Placed\n",
      "Sell Order Placed\n",
      " Buy Order Placed\n",
      " Buy Order Placed\n",
      " Buy Order Placed\n",
      " Buy Order Placed\n",
      " Buy Order Placed\n",
      " Buy Order Placed\n",
      " Buy Order Placed\n",
      " Buy Order Placed\n",
      " Buy Order Placed\n",
      " Buy Order Placed\n",
      " Buy Order Placed\n",
      " Buy Order Placed\n",
      " Buy Order Placed\n",
      " Buy Order Placed\n",
      " Buy Order Placed\n",
      " Buy Order Placed\n",
      " Buy Order Placed\n",
      " Buy Order Placed\n",
      " Buy Order Placed\n",
      " Buy Order Placed\n",
      " Buy Order Placed\n",
      " Buy Order Placed\n",
      " Buy Order Placed\n",
      " Buy Order Placed\n",
      " Buy Order Placed\n",
      " Buy Order Placed\n",
      " Buy Order Placed\n",
      " Buy Order Placed\n",
      " Buy Order Placed\n",
      " Buy Order Placed\n",
      " Buy Order Placed\n",
      " Buy Order Placed\n",
      " Buy Order Placed\n",
      " Buy Order Placed\n",
      " Buy Order Placed\n",
      " Buy Order Placed\n",
      " Buy Order Placed\n",
      " Buy Order Placed\n",
      " Buy Order Placed\n",
      " Buy Order Placed\n",
      " Buy Order Placed\n",
      " Buy Order Placed\n",
      " Buy Order Placed\n",
      " Buy Order Placed\n",
      " Buy Order Placed\n",
      " Buy Order Placed\n",
      " Buy Order Placed\n",
      " Buy Order Placed\n",
      " Buy Order Placed\n",
      " Buy Order Placed\n",
      " Buy Order Placed\n",
      " Buy Order Placed\n",
      " Buy Order Placed\n",
      " Buy Order Placed\n",
      " Buy Order Placed\n",
      " Buy Order Placed\n",
      " Buy Order Placed\n",
      " Buy Order Placed\n",
      " Buy Order Placed\n",
      " Buy Order Placed\n",
      " Buy Order Placed\n",
      " Buy Order Placed\n",
      " Buy Order Placed\n",
      " Buy Order Placed\n",
      " Buy Order Placed\n",
      " Buy Order Placed\n",
      " Buy Order Placed\n",
      " Buy Order Placed\n",
      " Buy Order Placed\n"
     ]
    }
   ],
   "source": [
    "\n",
    "\n",
    "for i in range(100):\n",
    "    ohlc = pd.DataFrame(mt.copy_rates_range('XAUUSDm',mt.TIMEFRAME_M1, datetime(2023,12,13),datetime.now()))\n",
    "    ohlc['time'] = pd.to_datetime(ohlc['time'],unit='s')\n",
    "\n",
    "    current_close = list(ohlc[-1:]['close'])[0]\n",
    "    last_close = list(ohlc[-2:]['close'])[0]\n",
    "    last_high = list(ohlc[-2:]['high'])[0]\n",
    "    last_low = list(ohlc[-2:]['low'])[0]\n",
    "    no_positions= len(mt.positions_get()) == 0\n",
    "    \n",
    "    already_buy = False\n",
    "    already_sell = False\n",
    "\n",
    "    try:\n",
    "        already_sell = mt.positions_get()[0]._asdict()['type'] == 1\n",
    "        already_buy = mt.positions_get()[0]._asdict()['type'] == 0\n",
    "    except:\n",
    "        pass\n",
    "\n",
    "    #conditions\n",
    "    long_condition = current_close> last_high\n",
    "    short_condition = current_close< last_low\n",
    "    closelong_condition = current_close < last_close\n",
    "    closeshort_condition = current_close > last_close\n",
    "\n",
    "\n",
    "    if long_condition:\n",
    "        if no_positions:\n",
    "            create_order(ticker, qty, buy_order_type, buy_price, buy_sl, buy_tp)\n",
    "            print(' Buy Order Placed')\n",
    "        if already_sell:\n",
    "            close_order(ticker,qty,buy_order_type,buy_price)\n",
    "            print(\"Sell Position Closed\")\n",
    "            time.sleep(1)\n",
    "            create_order(ticker, qty, buy_order_type, buy_price, buy_sl, buy_tp)\n",
    "            print(' Buy Order Placed')\n",
    "\n",
    "\n",
    "    if short_condition:\n",
    "        if no_positions:\n",
    "            create_order(ticker, qty, sell_order_type, sell_price, sell_sl, buy_tp)\n",
    "            print(\"Sell Order Placed\")\n",
    "        if already_buy:\n",
    "            close_order(ticker,qty,sell_order_type,sell_price)\n",
    "            print(\"Buy Position Closed\")\n",
    "            time.sleep(1)\n",
    "            create_order(ticker, qty, sell_order_type, sell_price, sell_sl, sell_tp)\n",
    "            print(' Sell Order Placed')\n",
    "    if closelong_condition and already_buy:\n",
    "        close_order(ticker,qty,sell_order_type,sell_price)\n",
    "        print('Only Buy Position Closed')\n",
    "    if closeshort_condition and already_buy:\n",
    "        close_order(ticker,qty,buy_order_type,buy_price)\n",
    "        print('Only Sell Position Closed')\n",
    "\n",
    "\n",
    "    already_buy = False\n",
    "    already_sell = False  \n",
    "    \n",
    "    time.sleep(60)"
   ]
  },
  {
   "cell_type": "code",
   "execution_count": null,
   "id": "bc896e6a",
   "metadata": {},
   "outputs": [],
   "source": []
  },
  {
   "cell_type": "code",
   "execution_count": null,
   "id": "c65675fd",
   "metadata": {},
   "outputs": [],
   "source": []
  },
  {
   "cell_type": "code",
   "execution_count": null,
   "id": "c113241e",
   "metadata": {},
   "outputs": [],
   "source": []
  },
  {
   "cell_type": "code",
   "execution_count": null,
   "id": "01f98001",
   "metadata": {},
   "outputs": [],
   "source": []
  },
  {
   "cell_type": "code",
   "execution_count": null,
   "id": "77c740fb",
   "metadata": {},
   "outputs": [],
   "source": []
  },
  {
   "cell_type": "code",
   "execution_count": null,
   "id": "e213bcdd",
   "metadata": {},
   "outputs": [],
   "source": []
  },
  {
   "cell_type": "code",
   "execution_count": null,
   "id": "82b2af2e",
   "metadata": {},
   "outputs": [],
   "source": []
  },
  {
   "cell_type": "code",
   "execution_count": null,
   "id": "12452318",
   "metadata": {},
   "outputs": [],
   "source": []
  },
  {
   "cell_type": "code",
   "execution_count": null,
   "id": "18ae7adc",
   "metadata": {},
   "outputs": [],
   "source": []
  },
  {
   "cell_type": "code",
   "execution_count": null,
   "id": "da84dd5f",
   "metadata": {},
   "outputs": [],
   "source": []
  },
  {
   "cell_type": "code",
   "execution_count": null,
   "id": "6c0a9967",
   "metadata": {},
   "outputs": [],
   "source": []
  },
  {
   "cell_type": "code",
   "execution_count": null,
   "id": "02765ab1",
   "metadata": {},
   "outputs": [],
   "source": []
  },
  {
   "cell_type": "code",
   "execution_count": null,
   "id": "933de2bf",
   "metadata": {},
   "outputs": [],
   "source": []
  }
 ],
 "metadata": {
  "kernelspec": {
   "display_name": "Python 3 (ipykernel)",
   "language": "python",
   "name": "python3"
  },
  "language_info": {
   "codemirror_mode": {
    "name": "ipython",
    "version": 3
   },
   "file_extension": ".py",
   "mimetype": "text/x-python",
   "name": "python",
   "nbconvert_exporter": "python",
   "pygments_lexer": "ipython3",
   "version": "3.10.9"
  }
 },
 "nbformat": 4,
 "nbformat_minor": 5
}
